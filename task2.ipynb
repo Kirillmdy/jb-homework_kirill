{
 "cells": [
  {
   "attachments": {},
   "cell_type": "markdown",
   "metadata": {},
   "source": [
    "# 1. Variant to solve this task (Compare product sales)"
   ]
  },
  {
   "attachments": {},
   "cell_type": "markdown",
   "metadata": {},
   "source": [
    "## SQL code to get this df:\n",
    "\n",
    "SELECT Product.product_id, Product.name, SUM(OrderItems.amount_total) as total_sales, Orders.date\n",
    "FROM sales.OrderItems\n",
    "JOIN sales.Orders ON OrderItems.order_id = Orders.id\n",
    "JOIN sales.Product ON OrderItems.product_id = Product.product_id\n",
    "JOIN sales.Customer ON Orders.customer = Customer.id\n",
    "JOIN sales.Country ON Customer.country_id = Country.id\n",
    "WHERE Orders.date BETWEEN '2018-01-01' AND '2019-12-31'\n",
    "GROUP BY Product.product_id, Country.region, Product.name, Orders.date\n",
    "ORDER BY total_sales DESC;\n"
   ]
  },
  {
   "cell_type": "code",
   "execution_count": 1,
   "metadata": {},
   "outputs": [],
   "source": [
    "import pandas as pd"
   ]
  },
  {
   "cell_type": "code",
   "execution_count": 5,
   "metadata": {},
   "outputs": [],
   "source": [
    "df = pd.read_csv('result_task2.csv', sep = ',')"
   ]
  },
  {
   "cell_type": "code",
   "execution_count": 6,
   "metadata": {},
   "outputs": [],
   "source": [
    "df['date'] = pd.to_datetime(df['date'])\n",
    "\n",
    "df['year'] = df['date'].dt.year\n",
    "\n",
    "yearly_sales = df.groupby(['year', 'product_id'])['total_sales'].sum()\n",
    "\n",
    "yearly_growth = yearly_sales.pct_change()\n",
    "\n",
    "sorted_products = yearly_growth.sort_values(ascending=False)\n",
    "\n",
    "top_products = sorted_products.head(5)\n",
    "\n",
    "bottom_products = sorted_products.tail(5)\n"
   ]
  },
  {
   "cell_type": "code",
   "execution_count": 10,
   "metadata": {},
   "outputs": [
    {
     "name": "stdout",
     "output_type": "stream",
     "text": [
      "year  product_id\n",
      "2018  YT            2.566271\n",
      "2019  YT            2.562706\n",
      "      II            1.521182\n",
      "2018  II            1.483106\n",
      "2019  RM            0.427951\n",
      "Name: total_sales, dtype: float64\n"
     ]
    }
   ],
   "source": [
    "print(top_products)"
   ]
  },
  {
   "cell_type": "code",
   "execution_count": 11,
   "metadata": {},
   "outputs": [
    {
     "name": "stdout",
     "output_type": "stream",
     "text": [
      "year  product_id\n",
      "2018  DB           -0.691289\n",
      "2019  DB           -0.694503\n",
      "2018  RD           -0.717508\n",
      "2019  RD           -0.720877\n",
      "2018  ALL                NaN\n",
      "Name: total_sales, dtype: float64\n"
     ]
    }
   ],
   "source": [
    "print(bottom_products)"
   ]
  },
  {
   "attachments": {},
   "cell_type": "markdown",
   "metadata": {},
   "source": [
    "# 2. Variant to solve this task (Analyze Customer Type)"
   ]
  },
  {
   "attachments": {},
   "cell_type": "markdown",
   "metadata": {},
   "source": [
    "## SQL code:\n",
    "\n",
    "SELECT Customer.type_id, SUM(OrderItems.amount_total) as total_sales, Orders.date\n",
    "FROM sales.OrderItems\n",
    "JOIN sales.Orders ON OrderItems.order_id = Orders.id\n",
    "JOIN sales.Customer ON Orders.customer = Customer.id\n",
    "JOIN sales.Country ON Customer.country_id = Country.id\n",
    "WHERE Orders.date BETWEEN '2018-01-01' AND '2019-12-31'\n",
    "GROUP BY Customer.type_id, Country.region, Orders.date\n",
    "ORDER BY total_sales DESC;"
   ]
  },
  {
   "cell_type": "code",
   "execution_count": 15,
   "metadata": {},
   "outputs": [],
   "source": [
    "df2 = pd.read_csv('result2_task2.csv', sep = ',')"
   ]
  },
  {
   "cell_type": "code",
   "execution_count": 17,
   "metadata": {},
   "outputs": [],
   "source": [
    "df2['date'] = pd.to_datetime(df['date'])\n",
    "df2['year'] = df2['date'].dt.year\n",
    "\n",
    "total_sales_per_type_and_year = df2.groupby(['type_id', 'year'])['total_sales'].sum().reset_index()\n",
    "\n",
    "pivot_df = total_sales_per_type_and_year.pivot(index='type_id', columns='year', values='total_sales')\n",
    "\n",
    "pivot_df['sales_change'] = (pivot_df[2019] - pivot_df[2018]) / pivot_df[2018] * 100\n",
    "\n",
    "sorted_df = pivot_df.sort_values(by='sales_change')\n"
   ]
  },
  {
   "cell_type": "code",
   "execution_count": 19,
   "metadata": {},
   "outputs": [
    {
     "data": {
      "text/html": [
       "<div>\n",
       "<style scoped>\n",
       "    .dataframe tbody tr th:only-of-type {\n",
       "        vertical-align: middle;\n",
       "    }\n",
       "\n",
       "    .dataframe tbody tr th {\n",
       "        vertical-align: top;\n",
       "    }\n",
       "\n",
       "    .dataframe thead th {\n",
       "        text-align: right;\n",
       "    }\n",
       "</style>\n",
       "<table border=\"1\" class=\"dataframe\">\n",
       "  <thead>\n",
       "    <tr style=\"text-align: right;\">\n",
       "      <th>year</th>\n",
       "      <th>2018</th>\n",
       "      <th>2019</th>\n",
       "      <th>sales_change</th>\n",
       "    </tr>\n",
       "    <tr>\n",
       "      <th>type_id</th>\n",
       "      <th></th>\n",
       "      <th></th>\n",
       "      <th></th>\n",
       "    </tr>\n",
       "  </thead>\n",
       "  <tbody>\n",
       "    <tr>\n",
       "      <th>1</th>\n",
       "      <td>84569745</td>\n",
       "      <td>35219649</td>\n",
       "      <td>-58.354316</td>\n",
       "    </tr>\n",
       "    <tr>\n",
       "      <th>2</th>\n",
       "      <td>81702701</td>\n",
       "      <td>38253732</td>\n",
       "      <td>-53.179354</td>\n",
       "    </tr>\n",
       "    <tr>\n",
       "      <th>3</th>\n",
       "      <td>81375975</td>\n",
       "      <td>40358562</td>\n",
       "      <td>-50.404819</td>\n",
       "    </tr>\n",
       "  </tbody>\n",
       "</table>\n",
       "</div>"
      ],
      "text/plain": [
       "year         2018      2019  sales_change\n",
       "type_id                                  \n",
       "1        84569745  35219649    -58.354316\n",
       "2        81702701  38253732    -53.179354\n",
       "3        81375975  40358562    -50.404819"
      ]
     },
     "execution_count": 19,
     "metadata": {},
     "output_type": "execute_result"
    }
   ],
   "source": [
    "sorted_df"
   ]
  },
  {
   "attachments": {},
   "cell_type": "markdown",
   "metadata": {},
   "source": [
    "# 3. Variant to solve this task (Look at the Timing of Sales (monthly))"
   ]
  },
  {
   "attachments": {},
   "cell_type": "markdown",
   "metadata": {},
   "source": [
    "## SQL code:\n",
    "\n",
    "SELECT Country.region, COUNT(*) as total_sales, MONTH(Orders.date) as month\n",
    "FROM sales.Orders\n",
    "JOIN sales.Customer ON Orders.customer = Customer.id\n",
    "JOIN sales.Country ON Customer.country_id = Country.id\n",
    "group by Country.region, Orders.date"
   ]
  },
  {
   "cell_type": "code",
   "execution_count": 22,
   "metadata": {},
   "outputs": [],
   "source": [
    "df3 = pd.read_csv('restult3_task2.csv', sep = ',')"
   ]
  },
  {
   "cell_type": "code",
   "execution_count": 24,
   "metadata": {},
   "outputs": [
    {
     "data": {
      "text/plain": [
       "<AxesSubplot:xlabel='month'>"
      ]
     },
     "execution_count": 24,
     "metadata": {},
     "output_type": "execute_result"
    },
    {
     "data": {
      "image/png": "[encoded data removed]",
      "text/plain": [
       "<Figure size 432x288 with 1 Axes>"
      ]
     },
     "metadata": {
      "needs_background": "light"
     },
     "output_type": "display_data"
    }
   ],
   "source": [
    "df3['month'] = df3['month'].astype(int)\n",
    "\n",
    "total_sales_per_region_and_month = df3.groupby(['region', 'month'])['total_sales'].sum().reset_index()\n",
    "\n",
    "pivot_df = total_sales_per_region_and_month.pivot(index='month', columns='region', values='total_sales')\n",
    "\n",
    "pivot_df.plot()\n"
   ]
  },
  {
   "cell_type": "code",
   "execution_count": 25,
   "metadata": {},
   "outputs": [
    {
     "data": {
      "text/html": [
       "<div>\n",
       "<style scoped>\n",
       "    .dataframe tbody tr th:only-of-type {\n",
       "        vertical-align: middle;\n",
       "    }\n",
       "\n",
       "    .dataframe tbody tr th {\n",
       "        vertical-align: top;\n",
       "    }\n",
       "\n",
       "    .dataframe thead th {\n",
       "        text-align: right;\n",
       "    }\n",
       "</style>\n",
       "<table border=\"1\" class=\"dataframe\">\n",
       "  <thead>\n",
       "    <tr style=\"text-align: right;\">\n",
       "      <th>region</th>\n",
       "      <th>ROW</th>\n",
       "      <th>US</th>\n",
       "    </tr>\n",
       "    <tr>\n",
       "      <th>month</th>\n",
       "      <th></th>\n",
       "      <th></th>\n",
       "    </tr>\n",
       "  </thead>\n",
       "  <tbody>\n",
       "    <tr>\n",
       "      <th>1</th>\n",
       "      <td>72107</td>\n",
       "      <td>52647</td>\n",
       "    </tr>\n",
       "    <tr>\n",
       "      <th>2</th>\n",
       "      <td>65351</td>\n",
       "      <td>47107</td>\n",
       "    </tr>\n",
       "    <tr>\n",
       "      <th>3</th>\n",
       "      <td>72062</td>\n",
       "      <td>52631</td>\n",
       "    </tr>\n",
       "    <tr>\n",
       "      <th>4</th>\n",
       "      <td>70338</td>\n",
       "      <td>50699</td>\n",
       "    </tr>\n",
       "    <tr>\n",
       "      <th>5</th>\n",
       "      <td>72280</td>\n",
       "      <td>52278</td>\n",
       "    </tr>\n",
       "    <tr>\n",
       "      <th>6</th>\n",
       "      <td>57259</td>\n",
       "      <td>41852</td>\n",
       "    </tr>\n",
       "    <tr>\n",
       "      <th>7</th>\n",
       "      <td>36765</td>\n",
       "      <td>26561</td>\n",
       "    </tr>\n",
       "    <tr>\n",
       "      <th>8</th>\n",
       "      <td>35875</td>\n",
       "      <td>26275</td>\n",
       "    </tr>\n",
       "    <tr>\n",
       "      <th>9</th>\n",
       "      <td>35101</td>\n",
       "      <td>25506</td>\n",
       "    </tr>\n",
       "    <tr>\n",
       "      <th>10</th>\n",
       "      <td>36027</td>\n",
       "      <td>26208</td>\n",
       "    </tr>\n",
       "    <tr>\n",
       "      <th>11</th>\n",
       "      <td>34817</td>\n",
       "      <td>25550</td>\n",
       "    </tr>\n",
       "    <tr>\n",
       "      <th>12</th>\n",
       "      <td>53217</td>\n",
       "      <td>38606</td>\n",
       "    </tr>\n",
       "  </tbody>\n",
       "</table>\n",
       "</div>"
      ],
      "text/plain": [
       "region    ROW     US\n",
       "month               \n",
       "1       72107  52647\n",
       "2       65351  47107\n",
       "3       72062  52631\n",
       "4       70338  50699\n",
       "5       72280  52278\n",
       "6       57259  41852\n",
       "7       36765  26561\n",
       "8       35875  26275\n",
       "9       35101  25506\n",
       "10      36027  26208\n",
       "11      34817  25550\n",
       "12      53217  38606"
      ]
     },
     "execution_count": 25,
     "metadata": {},
     "output_type": "execute_result"
    }
   ],
   "source": [
    "pivot_df"
   ]
  },
  {
   "attachments": {},
   "cell_type": "markdown",
   "metadata": {},
   "source": [
    "# 4. Variant to solve this task (Consider Exchange Rates)"
   ]
  },
  {
   "attachments": {},
   "cell_type": "markdown",
   "metadata": {},
   "source": [
    "## SQL code:\n",
    "\n",
    "SELECT Country.currency, AVG(ExchangeRate.rate) as avg_rate, Orders.date\n",
    "FROM sales.Orders\n",
    "JOIN sales.Customer ON Orders.customer = Customer.id\n",
    "JOIN sales.Country ON Customer.country_id = Country.id\n",
    "JOIN sales.ExchangeRate ON Country.currency = ExchangeRate.currency\n",
    "WHERE Orders.date BETWEEN '2018-01-01' AND '2019-12-31'\n",
    "GROUP BY Country.currency, Orders.date;\n"
   ]
  },
  {
   "cell_type": "code",
   "execution_count": 26,
   "metadata": {},
   "outputs": [],
   "source": [
    "df4 = pd.read_csv('result4_task2.csv', sep = ',')"
   ]
  },
  {
   "cell_type": "code",
   "execution_count": 27,
   "metadata": {},
   "outputs": [
    {
     "data": {
      "text/plain": [
       "<AxesSubplot:xlabel='date'>"
      ]
     },
     "execution_count": 27,
     "metadata": {},
     "output_type": "execute_result"
    },
    {
     "data": {
      "image/png": "[encoded data removed]",
      "text/plain": [
       "<Figure size 432x288 with 1 Axes>"
      ]
     },
     "metadata": {
      "needs_background": "light"
     },
     "output_type": "display_data"
    }
   ],
   "source": [
    "df4['date'] = pd.to_datetime(df4['date'])\n",
    "\n",
    "pivot_df = df4.pivot(index='date', columns='currency', values='avg_rate')\n",
    "\n",
    "pivot_df.plot()\n"
   ]
  },
  {
   "cell_type": "code",
   "execution_count": 28,
   "metadata": {},
   "outputs": [
    {
     "data": {
      "text/html": [
       "<div>\n",
       "<style scoped>\n",
       "    .dataframe tbody tr th:only-of-type {\n",
       "        vertical-align: middle;\n",
       "    }\n",
       "\n",
       "    .dataframe tbody tr th {\n",
       "        vertical-align: top;\n",
       "    }\n",
       "\n",
       "    .dataframe thead th {\n",
       "        text-align: right;\n",
       "    }\n",
       "</style>\n",
       "<table border=\"1\" class=\"dataframe\">\n",
       "  <thead>\n",
       "    <tr style=\"text-align: right;\">\n",
       "      <th>currency</th>\n",
       "      <th>EUR</th>\n",
       "      <th>GBP</th>\n",
       "      <th>USD</th>\n",
       "    </tr>\n",
       "    <tr>\n",
       "      <th>date</th>\n",
       "      <th></th>\n",
       "      <th></th>\n",
       "      <th></th>\n",
       "    </tr>\n",
       "  </thead>\n",
       "  <tbody>\n",
       "    <tr>\n",
       "      <th>2018-01-01</th>\n",
       "      <td>0.880398</td>\n",
       "      <td>0.77357</td>\n",
       "      <td>1.0</td>\n",
       "    </tr>\n",
       "    <tr>\n",
       "      <th>2018-01-02</th>\n",
       "      <td>0.880398</td>\n",
       "      <td>0.77357</td>\n",
       "      <td>1.0</td>\n",
       "    </tr>\n",
       "    <tr>\n",
       "      <th>2018-01-03</th>\n",
       "      <td>0.880398</td>\n",
       "      <td>0.77357</td>\n",
       "      <td>1.0</td>\n",
       "    </tr>\n",
       "    <tr>\n",
       "      <th>2018-01-04</th>\n",
       "      <td>0.880398</td>\n",
       "      <td>0.77357</td>\n",
       "      <td>1.0</td>\n",
       "    </tr>\n",
       "    <tr>\n",
       "      <th>2018-01-05</th>\n",
       "      <td>0.880398</td>\n",
       "      <td>0.77357</td>\n",
       "      <td>1.0</td>\n",
       "    </tr>\n",
       "    <tr>\n",
       "      <th>...</th>\n",
       "      <td>...</td>\n",
       "      <td>...</td>\n",
       "      <td>...</td>\n",
       "    </tr>\n",
       "    <tr>\n",
       "      <th>2019-06-30</th>\n",
       "      <td>0.880398</td>\n",
       "      <td>0.77357</td>\n",
       "      <td>1.0</td>\n",
       "    </tr>\n",
       "    <tr>\n",
       "      <th>2019-07-01</th>\n",
       "      <td>0.880398</td>\n",
       "      <td>0.77357</td>\n",
       "      <td>1.0</td>\n",
       "    </tr>\n",
       "    <tr>\n",
       "      <th>2019-07-02</th>\n",
       "      <td>0.880398</td>\n",
       "      <td>0.77357</td>\n",
       "      <td>1.0</td>\n",
       "    </tr>\n",
       "    <tr>\n",
       "      <th>2019-07-03</th>\n",
       "      <td>0.880398</td>\n",
       "      <td>0.77357</td>\n",
       "      <td>1.0</td>\n",
       "    </tr>\n",
       "    <tr>\n",
       "      <th>2019-07-04</th>\n",
       "      <td>0.880398</td>\n",
       "      <td>0.77357</td>\n",
       "      <td>1.0</td>\n",
       "    </tr>\n",
       "  </tbody>\n",
       "</table>\n",
       "<p>550 rows × 3 columns</p>\n",
       "</div>"
      ],
      "text/plain": [
       "currency         EUR      GBP  USD\n",
       "date                              \n",
       "2018-01-01  0.880398  0.77357  1.0\n",
       "2018-01-02  0.880398  0.77357  1.0\n",
       "2018-01-03  0.880398  0.77357  1.0\n",
       "2018-01-04  0.880398  0.77357  1.0\n",
       "2018-01-05  0.880398  0.77357  1.0\n",
       "...              ...      ...  ...\n",
       "2019-06-30  0.880398  0.77357  1.0\n",
       "2019-07-01  0.880398  0.77357  1.0\n",
       "2019-07-02  0.880398  0.77357  1.0\n",
       "2019-07-03  0.880398  0.77357  1.0\n",
       "2019-07-04  0.880398  0.77357  1.0\n",
       "\n",
       "[550 rows x 3 columns]"
      ]
     },
     "execution_count": 28,
     "metadata": {},
     "output_type": "execute_result"
    }
   ],
   "source": [
    "pivot_df"
   ]
  },
  {
   "attachments": {},
   "cell_type": "markdown",
   "metadata": {},
   "source": [
    "# Source of issue and actions:\n",
    "\n"
   ]
  },
  {
   "attachments": {},
   "cell_type": "markdown",
   "metadata": {},
   "source": [
    "### **Customer Type Decline:** The most significant finding is the substantial decline in sales for customer type 1 and 2, with type 1 experiencing the greatest decrease. This should be the main focus of further investigation. Understanding why this particular group's sales have fallen could shed light on the overall decline in the ROW region.\n",
    "\n",
    "#### **Action:** Dive deeper into the characteristics of this customer type. What industries are they in? What products do they typically buy? Have there been any changes in the market that could be impacting these customers more than others? Consider running surveys or interviews with these customers to gain further insights.\n",
    "\n",
    "### **Seasonality:** Both US and ROW show a significant drop in sales from July to November. This indicates that the problem might not be specific to the ROW region and could be a seasonal effect impacting the entire business.\n",
    "\n",
    "#### **Action:** Examine previous years' data to see if this is a consistent seasonal pattern. If it is, consider strategies to mitigate this, such as seasonal promotions or marketing campaigns.\n",
    "\n",
    "### **Product Sales:** There is a fluctuation in the total sales of different products across different dates. This indicates that some products might be performing better than others.\n",
    "\n",
    "#### **Action:** Investigate the product mix sold in 2018 and 2019. Have there been changes in the popularity of certain products? Has there been a change in competition, customer preferences, or product quality?\n",
    "\n",
    "### **Exchange Rates:** The exchange rates seem to be stable, so they are unlikely to be a factor in the sales decline."
   ]
  }
 ],
 "metadata": {
  "kernelspec": {
   "display_name": "base",
   "language": "python",
   "name": "python3"
  },
  "language_info": {
   "codemirror_mode": {
    "name": "ipython",
    "version": 3
   },
   "file_extension": ".py",
   "mimetype": "text/x-python",
   "name": "python",
   "nbconvert_exporter": "python",
   "pygments_lexer": "ipython3",
   "version": "3.8.8"
  },
  "orig_nbformat": 4
 },
 "nbformat": 4,
 "nbformat_minor": 2
}
